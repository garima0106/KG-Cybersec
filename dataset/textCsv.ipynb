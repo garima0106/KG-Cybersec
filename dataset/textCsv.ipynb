{
 "cells": [
  {
   "cell_type": "code",
   "execution_count": 2,
   "id": "bc37fcda",
   "metadata": {},
   "outputs": [],
   "source": [
    "import re\n",
    "import csv\n",
    "import pandas as pd"
   ]
  },
  {
   "cell_type": "code",
   "execution_count": 3,
   "id": "755a8bb8",
   "metadata": {},
   "outputs": [],
   "source": [
    "data = open(\"/Users/garima/learningmodel/garima/dataset/ccP2.txt\").read()"
   ]
  },
  {
   "cell_type": "code",
   "execution_count": 4,
   "id": "22d9088f",
   "metadata": {},
   "outputs": [],
   "source": [
    "# split at full stop\n",
    "lines_of_data = data.split (\". \") "
   ]
  },
  {
   "cell_type": "code",
   "execution_count": 10,
   "id": "434dfc83",
   "metadata": {},
   "outputs": [],
   "source": [
    "# tmp = []\n",
    "# for i in range(len(lines_of_data)):\n",
    "#     tmp.append(lines_of_data[i].split())    \n",
    "# "
   ]
  },
  {
   "cell_type": "code",
   "execution_count": 5,
   "id": "0e077b50",
   "metadata": {},
   "outputs": [],
   "source": [
    "data_df = pd.DataFrame(lines_of_data ) \n",
    "data_df.to_csv('test2.csv')"
   ]
  },
  {
   "cell_type": "code",
   "execution_count": null,
   "id": "5f38b351",
   "metadata": {},
   "outputs": [],
   "source": []
  }
 ],
 "metadata": {
  "kernelspec": {
   "display_name": "Python 3",
   "language": "python",
   "name": "python3"
  },
  "language_info": {
   "codemirror_mode": {
    "name": "ipython",
    "version": 3
   },
   "file_extension": ".py",
   "mimetype": "text/x-python",
   "name": "python",
   "nbconvert_exporter": "python",
   "pygments_lexer": "ipython3",
   "version": "3.8.10"
  }
 },
 "nbformat": 4,
 "nbformat_minor": 5
}
