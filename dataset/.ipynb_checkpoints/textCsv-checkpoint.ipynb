{
 "cells": [
  {
   "cell_type": "code",
   "execution_count": 9,
   "id": "bc37fcda",
   "metadata": {},
   "outputs": [],
   "source": [
    "import re\n",
    "import csv\n",
    "import pandas as pd"
   ]
  },
  {
   "cell_type": "code",
   "execution_count": 3,
   "id": "755a8bb8",
   "metadata": {},
   "outputs": [],
   "source": [
    "data = open(\"/Users/garima/learningmodel/garima/dataset/ccP1.txt\").read()"
   ]
  },
  {
   "cell_type": "code",
   "execution_count": 15,
   "id": "22d9088f",
   "metadata": {},
   "outputs": [],
   "source": [
    "# split at full stop\n",
    "lines_of_data = data.split (\". \") "
   ]
  },
  {
   "cell_type": "code",
   "execution_count": 12,
   "id": "0bbc4d75",
   "metadata": {},
   "outputs": [
    {
     "data": {
      "text/plain": [
       "['In the first project, we will build an elastic application that can automatically scale out and in on-demand and cost-effectively by using the IaaS cloud',\n",
       " 'Specifically, we will build this application using the IaaS resources from Amazon Web Services (AWS)',\n",
       " 'AWS is the most widely used IaaS provider and offers a variety of compute, storage, and massage services',\n",
       " 'Our application will offer a meaningful cloud service to users, and the technologies and techniques that we learn will be useful for us to build many others in the future.\\nDescription\\nOur cloud app will provide an image recognition service to users, by using cloud resources to perform deep learning on images provided by the users',\n",
       " 'The deep learning model will be provided to you, but you need to build the application that uses this model to provide the service and meet the following typical requirements for a cloud application:\\n\\t1\\tThe app should take images received from users as input and perform image recognition on these images using the provided deep learning model',\n",
       " 'It should also return the recognition result (the top 1 result from the provided model) as output to the users',\n",
       " 'The input is a .png file, and the output is the prediction result',\n",
       " 'For example, the user uploads an image named “test_0.JPEG”',\n",
       " 'For the above request, the output should be “bathtub” in plain text',\n",
       " '\\u2028\\u2028\\u2028Use the provided workload generator to create concurrent requests to your app',\n",
       " '\\n\\t2\\tThe deep learning model is provided to you in an AWS image (ID:ami-0c4f7023847b90238\\xa0(Links to an external site.)\\u2028\\xa0ami-0c4f7023847b90238ami-0c4f7023847b90238ami-0c4f7023847b90238, Name: app-tier, Region: us-east-1)',\n",
       " 'Use the following command to invoke the program in the home directory: \\u2028\\u2028cd /home/ubuntu/classifier/ \\u2028\\u2028python3 image_classification.py path_to_the_image\\n\\t3\\tYour app should be able to handle multiple requests concurrently',\n",
       " 'It should automatically scale out when the request demand increases, and automatically scale in when the demand drops',\n",
       " 'Because we have limited resources from the free tier, the app should use no more than 20 instances, and it should queue all the pending requests when it reaches this limit',\n",
       " 'When there is no request, the app should use the minimum number of instances',\n",
       " 'Give your instances meaningful names, for example, a web-tier instance should be named in the fashion of “web-instance1” and an app-tier instance should be named “app-instance1”.\\n\\t4\\tAll the inputs (images) and outputs (recognition results) should be stored in S3 for persistence',\n",
       " 'S3 stores all the objects in a form of key-value pair',\n",
       " 'The inputs should be stored in one bucket',\n",
       " 'The key of each object in this bucket is in the form of .JPEG files, e.g., test_0.JPEG',\n",
       " 'and the value in this bucket is the image file',\n",
       " 'The outputs should be stored in another bucket',\n",
       " 'The key is the image name (e.g., test_0), and the value is in the form of (image name, top-1 result) pairs, e.g., (test_0, bathtub)',\n",
       " 'Specify your bucket names in your project README file.\\n\\t5\\tThe app should handle all the requests as fast as possible, and it should not miss any requests',\n",
       " \"The recognition requests should all be correct.\\n\\t6\\tFor the sake of easy testing, use the resources from only the ap-northeast-2 region for all your app's needs.\\nFollow the reference architecture below to implement your app.\\n\\xa0\\nNote: to avoid the web tier times out before the app tier finishes processing a request, you can remove the web tier timeout limit\",\n",
       " 'For PHP backends, you can set set_time_limit to 0 to remove the limit.\\nTest your code thoroughly using the provided workload generator',\n",
       " 'Check the following:\\n\\t1\\tThe output of the workload generator is correct;\\n\\t2\\tThe contents in the S3 buckets are correct;\\n\\t3\\tWhile processing the workload, the number of EC2 instances is correct.\\n\\t4\\tAll the requests are processed within a reasonable amount of time',\n",
       " 'As a reference point, for a workload of 100 concurrent requests, using the TAs’ implementation of the project, it completes within seven minutes.\\nYour project will be graded according to the above criteria.']"
      ]
     },
     "execution_count": 12,
     "metadata": {},
     "output_type": "execute_result"
    }
   ],
   "source": [
    "lines_of_data"
   ]
  },
  {
   "cell_type": "code",
   "execution_count": 10,
   "id": "434dfc83",
   "metadata": {},
   "outputs": [],
   "source": [
    "# tmp = []\n",
    "# for i in range(len(lines_of_data)):\n",
    "#     tmp.append(lines_of_data[i].split())    \n",
    "# "
   ]
  },
  {
   "cell_type": "code",
   "execution_count": 14,
   "id": "0e077b50",
   "metadata": {},
   "outputs": [],
   "source": [
    "data_df = pd.DataFrame(lines_of_data ) \n",
    "data_df.to_csv('test.csv')"
   ]
  },
  {
   "cell_type": "code",
   "execution_count": null,
   "id": "5f38b351",
   "metadata": {},
   "outputs": [],
   "source": []
  }
 ],
 "metadata": {
  "kernelspec": {
   "display_name": "Python 3",
   "language": "python",
   "name": "python3"
  },
  "language_info": {
   "codemirror_mode": {
    "name": "ipython",
    "version": 3
   },
   "file_extension": ".py",
   "mimetype": "text/x-python",
   "name": "python",
   "nbconvert_exporter": "python",
   "pygments_lexer": "ipython3",
   "version": "3.8.10"
  }
 },
 "nbformat": 4,
 "nbformat_minor": 5
}
