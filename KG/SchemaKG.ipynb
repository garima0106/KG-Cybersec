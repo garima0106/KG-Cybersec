{
 "cells": [
  {
   "cell_type": "code",
   "execution_count": 2,
   "id": "8097657e",
   "metadata": {},
   "outputs": [],
   "source": [
    "from neo4j import GraphDatabase"
   ]
  },
  {
   "cell_type": "code",
   "execution_count": null,
   "id": "4bbc42d9",
   "metadata": {},
   "outputs": [],
   "source": [
    "from regraph.graphs import Graph"
   ]
  },
  {
   "cell_type": "code",
   "execution_count": null,
   "id": "b0cf0e9d",
   "metadata": {},
   "outputs": [],
   "source": [
    "import networkx"
   ]
  },
  {
   "cell_type": "code",
   "execution_count": 7,
   "id": "0d02040e",
   "metadata": {},
   "outputs": [],
   "source": [
    "from regraph.attribute_sets import IntegerSet, RegexSet"
   ]
  },
  {
   "cell_type": "code",
   "execution_count": 4,
   "id": "11939ef3",
   "metadata": {},
   "outputs": [],
   "source": [
    "%matplotlib inline"
   ]
  },
  {
   "cell_type": "markdown",
   "id": "ae4f66ba",
   "metadata": {},
   "source": [
    "## connecting to Neo4j sandbox"
   ]
  },
  {
   "cell_type": "code",
   "execution_count": 1,
   "id": "daf37215",
   "metadata": {},
   "outputs": [],
   "source": [
    "uri=\"bolt://3.82.98.115:7687\"\n",
    "pwd=\"explosives-circumstance-sample\""
   ]
  },
  {
   "cell_type": "code",
   "execution_count": 4,
   "id": "4901e8ad",
   "metadata": {},
   "outputs": [],
   "source": [
    "driver = GraphDatabase.driver(uri, auth=(\"neo4j\",pwd))"
   ]
  },
  {
   "cell_type": "code",
   "execution_count": 5,
   "id": "aa8b88c0",
   "metadata": {},
   "outputs": [],
   "source": [
    "query= \"Match (n) RETURN COUNT(n)\""
   ]
  },
  {
   "cell_type": "code",
   "execution_count": 6,
   "id": "d8cb6bdf",
   "metadata": {},
   "outputs": [
    {
     "name": "stdout",
     "output_type": "stream",
     "text": [
      "0\n"
     ]
    }
   ],
   "source": [
    "with driver.session() as session:\n",
    "    result = session.run(query)\n",
    "    print(result.single()[\"COUNT(n)\"])\n",
    "    "
   ]
  },
  {
   "cell_type": "code",
   "execution_count": 7,
   "id": "3bf6651a",
   "metadata": {},
   "outputs": [],
   "source": [
    "from py2neo import Graph, Node, Relationship"
   ]
  },
  {
   "cell_type": "code",
   "execution_count": 8,
   "id": "79174e21",
   "metadata": {},
   "outputs": [],
   "source": [
    "graph = Graph(uri, auth=(\"neo4j\",pwd))"
   ]
  },
  {
   "cell_type": "code",
   "execution_count": 9,
   "id": "24975190",
   "metadata": {},
   "outputs": [
    {
     "data": {
      "text/plain": [
       "Graph('bolt://3.82.98.115:7687')"
      ]
     },
     "execution_count": 9,
     "metadata": {},
     "output_type": "execute_result"
    }
   ],
   "source": [
    "graph"
   ]
  },
  {
   "cell_type": "markdown",
   "id": "dcfa319b",
   "metadata": {},
   "source": [
    "## Load all csv files to neo4j"
   ]
  },
  {
   "cell_type": "code",
   "execution_count": null,
   "id": "6d8845ab",
   "metadata": {},
   "outputs": [],
   "source": [
    "//count data rows in features.csv (headers)\n",
    "LOAD CSV WITH HEADERS FROM 'features.csv' AS row\n",
    "RETURN count(row);"
   ]
  },
  {
   "cell_type": "markdown",
   "id": "6ae35118",
   "metadata": {},
   "source": [
    "## Create and modify a schema-aware graph object"
   ]
  },
  {
   "cell_type": "code",
   "execution_count": 11,
   "id": "f18e82cd",
   "metadata": {},
   "outputs": [],
   "source": [
    "# define schema graph elements\n",
    "schema_nodes= [\n",
    "    (\"project\", {\"course\": RegexSet.universal()}),\n",
    "    (\"courseName\", {\"course\": RegexSet.universal()}),\n",
    "    (\"student\", {\"roles\": RegexSet.universal()}),\n",
    "    (\"user\", {\"roles\": RegexSet.universal()}),\n",
    "    (\"ethicalHacker\", {\"roles\": RegexSet.universal()}),\n",
    "    (\"attacker\", {\"roles\": RegexSet.universal()}),\n",
    "    (\"app\", {\"application\": RegexSet.universal()}),\n",
    "    (\"system\", {\"application\": RegexSet.universal()}),\n",
    "    (\"tools\", {\"application\": RegexSet.universal()}),\n",
    "    (\"technique\", {\"concept\": RegexSet.universal()}),\n",
    "    (\"vulnerability\", {\"concept\": RegexSet.universal()}),\n",
    "    (\"attack\", {\"concept\": RegexSet.universal()}),\n",
    "    (\"function\", {\"concept\": RegexSet.universal()}),\n",
    "    (\"feature\", {\"concept\": RegexSet.universal()}),\n",
    "]"
   ]
  },
  {
   "cell_type": "code",
   "execution_count": 10,
   "id": "42ebf0ae",
   "metadata": {},
   "outputs": [],
   "source": [
    "schema_edges =[\n",
    "    (\"project\", \"system\", {\"type\":{\"has_prereq\"}}),\n",
    "    (\"project\", \"concept\", {\"type\":{\"has_prereq\"}}),\n",
    "    (\"system\", \"attack\", {\"type\":{\"can_expose\"}}),\n",
    "    (\"function\", \"attack\", {\"type\":{\"can_expose\"}}),\n",
    "    (\"app\", \"feature\", {\"type\":{\"has_a\"}}),\n",
    "    (\"tools\", \"function\", {\"type\":{\"has_a\", \"can_analyze\"}}),\n",
    "    (\"tools\", \"apps\", {\"type\":{\"can_analyze\"}}),\n",
    "    (\"tools\", \"vulnerability\", {\"type\":{\"can_analyze\"}}),\n",
    "    (\"tools\", \"tools\", {\"type\":{\"implements\"}}),\n",
    "    (\"system\", \"vulnerability\", {\"type\":{\"can_expose\"}}),\n",
    "    (\"function\", \"vulnerability\", {\"type\":{\"can_expose\"}}),\n",
    "    (\"feature\", \"attack\", {\"type\":{\"can_cause\"}}),\n",
    "    (\"attacker\", \"vulnerability\", {\"type\":{\"can_exploit\"}}),\n",
    "    (\"attacker\", \"feature\", {\"type\":{\"can_exploit\"}}),\n",
    "    (\"ethicalHacker\", \"vulnerability\", {\"type\":{\"can_analyze\"}}),\n",
    "    (\"ethicalHacker\", \"tools\", {\"type\":{\"uses\"}}),\n",
    "    (\"ethicalHacker\", \"app\", {\"type\":{\"can_exploit\"}}),\n",
    "    (\"ethicalHacker\", \"technique\", {\"type\":{\"implements\"}}),\n",
    "    (\"user\", \"system\", {\"type\":{\"uses\"}}),\n",
    "    (\"user\", \"vulnerability\", {\"type\":{\"can_expose\"}}),\n",
    "    (\"student\", \"system\", {\"type\":{\"uses\"}}),\n",
    "    (\"student\", \"feature\", {\"type\":{\"can_analyze\"}}),\n",
    "    (\"student\", \"function\", {\"type\":{\"implements\"}}),\n",
    "    (\"student\", \"technique\", {\"type\":{\"implements\"}}), \n",
    "    (\"student\", \"tools\", {\"type\":{\"uses\"}}),\n",
    "    \n",
    "]"
   ]
  },
  {
   "cell_type": "code",
   "execution_count": 12,
   "id": "79a6e930",
   "metadata": {},
   "outputs": [],
   "source": [
    "schema_nodes= [\n",
    "    (\"project\", {\"course\"}),\n",
    "    (\"courseName\", {\"course\"}),\n",
    "    (\"student\", {\"roles\"}),\n",
    "    (\"user\", {\"roles\"}),\n",
    "    (\"ethicalHacker\", {\"roles\"}),\n",
    "    (\"attacker\", {\"roles\"}),\n",
    "    (\"app\", {\"application\"}),\n",
    "    (\"system\", {\"application\"}),\n",
    "    (\"tools\", {\"application\"}),\n",
    "    (\"technique\", {\"concept\"}),\n",
    "    (\"vulnerability\", {\"concept\"}),\n",
    "    (\"attack\", {\"concept\"}),\n",
    "    (\"function\", {\"concept\"}),\n",
    "    (\"feature\", {\"concept\"}),\n",
    "]"
   ]
  },
  {
   "cell_type": "code",
   "execution_count": null,
   "id": "381b21b7",
   "metadata": {},
   "outputs": [],
   "source": []
  }
 ],
 "metadata": {
  "kernelspec": {
   "display_name": "Python 3",
   "language": "python",
   "name": "python3"
  },
  "language_info": {
   "codemirror_mode": {
    "name": "ipython",
    "version": 3
   },
   "file_extension": ".py",
   "mimetype": "text/x-python",
   "name": "python",
   "nbconvert_exporter": "python",
   "pygments_lexer": "ipython3",
   "version": "3.8.10"
  }
 },
 "nbformat": 4,
 "nbformat_minor": 5
}
